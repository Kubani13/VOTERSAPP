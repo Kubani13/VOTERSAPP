{
 "cells": [
  {
   "cell_type": "code",
   "execution_count": 1,
   "metadata": {},
   "outputs": [],
   "source": [
    "candidates = [\n",
    "    {\n",
    "        \"id\": 0,\n",
    "        \"name\": \"Saurav Shrestha\",\n",
    "        \"manifesto\": \"I promise to improve education and healthcare for all citizens.\",\n",
    "        \"votes\": 0\n",
    "    },\n",
    "    {\n",
    "        \"id\": 1,\n",
    "        \"name\": \"Obaloluwa Akinloye\",\n",
    "        \"manifesto\": \"I will focus on creating more job opportunities and boosting the economy.\",\n",
    "        \"votes\": 0\n",
    "    },\n",
    "    {\n",
    "        \"id\": 2,\n",
    "        \"name\": \"Ridwan Adekilekun\",\n",
    "        \"manifesto\": \"I am committed to environmental protection and sustainability.\",\n",
    "        \"votes\": 0\n",
    "    },\n",
    "    {\n",
    "        \"id\": 3,\n",
    "        \"name\": \"Blessing Okoro\",\n",
    "        \"manifesto\": \"I aim to reduce crime rates and improve public safety.\",\n",
    "        \"votes\": 0\n",
    "    }\n",
    "    ,\n",
    "    {\n",
    "        \"id\": 4,\n",
    "        \"name\": \"Igbanam Iwowari\",\n",
    "        \"manifesto\": \"I will focus on creating more job opportunities and boosting the economy.\",\n",
    "        \"votes\": 0\n",
    "    }\n",
    "    ,\n",
    "    {\n",
    "        \"id\": 5,\n",
    "        \"name\": \"Idris Umeni\",\n",
    "        \"manifesto\": \"I promise to improve education and healthcare for all citizens.\",\n",
    "        \"votes\": 0\n",
    "    },\n",
    "    {\n",
    "        \"id\": 6,\n",
    "        \"name\": \"Desmond Mbun\",\n",
    "        \"manifesto\": \"I am committed to environmental protection and sustainability.\",\n",
    "        \"votes\": 0\n",
    "    }\n",
    "    \n",
    "    ]"
   ]
  },
  {
   "cell_type": "code",
   "execution_count": 7,
   "metadata": {},
   "outputs": [
    {
     "name": "stdout",
     "output_type": "stream",
     "text": [
      "Candidiate - Saurav Shrestha has total 0 votes\n",
      "Candidiate - Obaloluwa Akinloye has total 0 votes\n",
      "Candidiate - Ridwan Adekilekun has total 0 votes\n",
      "Candidiate - Blessing Okoro has total 0 votes\n",
      "Candidiate - Igbanam Iwowari has total 0 votes\n",
      "Candidiate - Idris Umeni has total 0 votes\n",
      "Candidiate - Desmond Mbun has total 0 votes\n"
     ]
    }
   ],
   "source": [
    "for candidate in candidates:\n",
    "    print(f'Candidiate - {candidate['name']} has total {candidate['votes']} votes')\n",
    " "
   ]
  },
  {
   "cell_type": "code",
   "execution_count": null,
   "metadata": {},
   "outputs": [],
   "source": []
  }
 ],
 "metadata": {
  "kernelspec": {
   "display_name": "Python 3",
   "language": "python",
   "name": "python3"
  },
  "language_info": {
   "codemirror_mode": {
    "name": "ipython",
    "version": 3
   },
   "file_extension": ".py",
   "mimetype": "text/x-python",
   "name": "python",
   "nbconvert_exporter": "python",
   "pygments_lexer": "ipython3",
   "version": "3.12.0"
  }
 },
 "nbformat": 4,
 "nbformat_minor": 2
}
