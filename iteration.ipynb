{
 "cells": [
  {
   "cell_type": "code",
   "execution_count": 7,
   "metadata": {},
   "outputs": [],
   "source": [
    "candidates = [\n",
    "    {\n",
    "        \"id\": 0,\n",
    "        \"name\": \"Saurav Shrestha\",\n",
    "        \"manifesto\": \"I promise to improve education and healthcare for all citizens.\",\n",
    "        \"votes\": 0\n",
    "    },\n",
    "    {\n",
    "        \"id\": 1,\n",
    "        \"name\": \"Obaloluwa Akinloye\",\n",
    "        \"manifesto\": \"I will focus on creating more job opportunities and boosting the economy.\",\n",
    "        \"votes\": 0\n",
    "    },\n",
    "    {\n",
    "        \"id\": 2,\n",
    "        \"name\": \"Ridwan Adekilekun\",\n",
    "        \"manifesto\": \"I am committed to environmental protection and sustainability.\",\n",
    "        \"votes\": 0\n",
    "    },\n",
    "    {\n",
    "        \"id\": 3,\n",
    "        \"name\": \"Blessing Okoro\",\n",
    "        \"manifesto\": \"I aim to reduce crime rates and improve public safety.\",\n",
    "        \"votes\": 0\n",
    "    }\n",
    "    ,\n",
    "    {\n",
    "        \"id\": 4,\n",
    "        \"name\": \"Igbanam Iwowari\",\n",
    "        \"manifesto\": \"I aim to reduce crime rates and improve public safety.\",\n",
    "        \"votes\": 0\n",
    "    }\n",
    "    ,\n",
    "    {\n",
    "        \"id\": 5,\n",
    "        \"name\": \"Idris Umeni\",\n",
    "        \"manifesto\": \"I aim to reduce crime rates and improve public safety.\",\n",
    "        \"votes\": 0\n",
    "    },\n",
    "    {\n",
    "        \"id\": 6,\n",
    "        \"name\": \"Desmond Mbun\",\n",
    "        \"manifesto\": \"I aim to reduce crime rates and improve public safety.\",\n",
    "        \"votes\": 0\n",
    "    }\n",
    "    \n",
    "]"
   ]
  },
  {
   "cell_type": "code",
   "execution_count": null,
   "metadata": {},
   "outputs": [],
   "source": []
  },
  {
   "cell_type": "code",
   "execution_count": 21,
   "metadata": {},
   "outputs": [
    {
     "name": "stdout",
     "output_type": "stream",
     "text": [
      "Saurav Shrestha score is 0\n",
      "Obaloluwa Akinloye score is 0\n",
      "Ridwan Adekilekun score is 0\n",
      "Blessing Okoro score is 0\n",
      "Igbanam Iwowari score is 0\n",
      "Idris Umeni score is 0\n",
      "Desmond Mbun score is 0\n"
     ]
    }
   ],
   "source": [
    "for candidate in candidates:\n",
    "    print(f'{candidate[\"name\"]} score is {candidate[\"votes\"]}')\n",
    "    \n",
    "    \n"
   ]
  },
  {
   "cell_type": "code",
   "execution_count": null,
   "metadata": {},
   "outputs": [],
   "source": []
  }
 ],
 "metadata": {
  "kernelspec": {
   "display_name": "Python 3",
   "language": "python",
   "name": "python3"
  },
  "language_info": {
   "codemirror_mode": {
    "name": "ipython",
    "version": 3
   },
   "file_extension": ".py",
   "mimetype": "text/x-python",
   "name": "python",
   "nbconvert_exporter": "python",
   "pygments_lexer": "ipython3",
   "version": "3.10.9"
  }
 },
 "nbformat": 4,
 "nbformat_minor": 2
}
